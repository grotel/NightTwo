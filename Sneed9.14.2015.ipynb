{
 "cells": [
  {
   "cell_type": "code",
   "execution_count": 1,
   "metadata": {
    "collapsed": false
   },
   "outputs": [
    {
     "name": "stdout",
     "output_type": "stream",
     "text": [
      "{'Last': 'Doe', 'First': 'Jill'}\n",
      "{'Last': 'Doe', 'First': 'Joe'}\n",
      "{'Last': 'Doe', 'First': 'Justin'}\n",
      "{'Last': 'Doe', 'First': 'Jane'}\n",
      "{'Last': 'Doe', 'First': 'John'}\n"
     ]
    }
   ],
   "source": [
    "import os\n",
    "import csv\n",
    "data = csv.reader(open('C:\\Users\\W540\\Documents\\GitHub\\NightOne\\data.csv'))\n",
    "# Read the column names from the first line of the file\n",
    "fields = data.next()\n",
    "for row in data:\n",
    "  item = dict(zip(fields, row))\n",
    "  print item"
   ]
  },
  {
   "cell_type": "code",
   "execution_count": null,
   "metadata": {
    "collapsed": true
   },
   "outputs": [],
   "source": []
  }
 ],
 "metadata": {
  "kernelspec": {
   "display_name": "Python 2",
   "language": "python",
   "name": "python2"
  },
  "language_info": {
   "codemirror_mode": {
    "name": "ipython",
    "version": 2
   },
   "file_extension": ".py",
   "mimetype": "text/x-python",
   "name": "python",
   "nbconvert_exporter": "python",
   "pygments_lexer": "ipython2",
   "version": "2.7.10"
  }
 },
 "nbformat": 4,
 "nbformat_minor": 0
}
